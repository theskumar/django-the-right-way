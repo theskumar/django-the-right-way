{
 "cells": [
  {
   "cell_type": "markdown",
   "metadata": {
    "slideshow": {
     "slide_type": "slide"
    }
   },
   "source": [
    "# Django the Right Way!\n",
    "\n",
    "@_theskumar\n",
    "(https://saurabh-kumar.com)"
   ]
  },
  {
   "cell_type": "markdown",
   "metadata": {
    "slideshow": {
     "slide_type": "slide"
    }
   },
   "source": [
    "# Agenda\n",
    "\n",
    "- __Basic Concepts__\n",
    "- __Hello world__\n",
    "- __FOSSEvents Project__\n",
    "- __Lessons Learnt__\n"
   ]
  },
  {
   "cell_type": "markdown",
   "metadata": {
    "slideshow": {
     "slide_type": "slide"
    }
   },
   "source": [
    "# Basic Concepts\n",
    "\n",
    "- Tooling and setting up your development manchine\n",
    "- What/why of Django?\n",
    "- Python vs Django\n",
    "- Documentation\n",
    "- Project Generators/boilerplates (cookiecutter)\n",
    "- Testing (unittest, pytest, linting)\n",
    "- Build Tools (Makefile, Fabric)\n",
    "- Continuous Integration and Deployment\n"
   ]
  },
  {
   "cell_type": "markdown",
   "metadata": {
    "slideshow": {
     "slide_type": "slide"
    }
   },
   "source": [
    "# Tooling and setup your dev machine \n",
    "\n",
    "- Maintain [dotfiles](https://dotfiles.github.io/).\n",
    "- Know your editor (PyCharm, SublimeText, Atom, vim, notepad, etc.).\n",
    "- Use virtualenv per project.\n",
    "- Use shell scripting to ease your daily tasks"
   ]
  },
  {
   "cell_type": "markdown",
   "metadata": {
    "slideshow": {
     "slide_type": "subslide"
    }
   },
   "source": [
    "## Editors\n",
    "- Choose them carefully and learn it well.\n",
    "- Make use of plugins: [SublimeText](https://gist.github.com/theskumar/9ae8bfc510edbcf6c7dc)"
   ]
  },
  {
   "cell_type": "markdown",
   "metadata": {
    "slideshow": {
     "slide_type": "subslide"
    }
   },
   "source": [
    "## Virtualenv\n",
    "\n",
    "Maintain seperation of installed libraries per project.\n",
    "\n",
    "```\n",
    "virtualenv venv  # copy python and it's standard libraries to `venv` folder\n",
    "source venv/bin/activate  # Activate the environement \n",
    "```\n",
    "\n",
    "__Python3__ environment:\n",
    "\n",
    "```\n",
    "virtualenv \n",
    "```\n",
    "\n",
    "__Protip:__\n",
    "Setup an alias to create and activate virutalenv\n",
    "\n",
    "```\n",
    "alias sv=if [[ ! -d \"venv\" && ! -L \"venv\" ]] ; then; virtualenv venv; fi; source venv/bin/activate;\n",
    "```\n",
    "\n",
    "Further reading:\n",
    "1. [virtualenv-vs-virtualenvwrapper](https://saurabh-kumar.com/blog/virtualenv-vs-virtualenvwrapper.html)\n",
    "2. [gh:dotfiles/.aliases](https://github.com/theskumar/dotfiles/blob/master/.aliases#L56-L57)\n"
   ]
  },
  {
   "cell_type": "markdown",
   "metadata": {
    "slideshow": {
     "slide_type": "slide"
    }
   },
   "source": [
    "# What/Why of Django\n",
    "- Python Vs Django\n",
    "- Different flavours of framework (flask/django/pyramid/web.py)"
   ]
  },
  {
   "cell_type": "markdown",
   "metadata": {
    "slideshow": {
     "slide_type": "slide"
    }
   },
   "source": [
    "# Django Life-Cycle in brief\n",
    "\n",
    "- "
   ]
  },
  {
   "cell_type": "markdown",
   "metadata": {
    "slideshow": {
     "slide_type": "subslide"
    }
   },
   "source": [
    "# Linting\n",
    "\n",
    "- Use flake8 as soon as you can.\n",
    "- Ideally before you make a commit.\n",
    "- Run it as part of CI build process.\n",
    "- [git-flake8] script, ensures you never make a mistake.\n",
    "\n",
    "```\n",
    "git flake8\n",
    "```\n",
    "\n",
    "[git-flake8]: https://github.com/theskumar/dotfiles/blob/master/bin/git-flake8"
   ]
  },
  {
   "cell_type": "markdown",
   "metadata": {},
   "source": [
    "## Documentation\n",
    "\n",
    "- Why\n",
    "- When\n",
    "- Tools\n",
    "- How"
   ]
  },
  {
   "cell_type": "markdown",
   "metadata": {
    "slideshow": {
     "slide_type": "subslide"
    }
   },
   "source": [
    "## Project Biolerplates and Generators\n",
    "\n",
    "- Django has it's own (django-admin.py startproject)\n",
    "- Cookiecutter \n",
    "  - Uses jinja templating language for file/folder names and variable substitions.\n",
    "\n",
    "```\n",
    "cd code/cookeicutter_demo\n",
    "pip install cookiecutter\n",
    "cookiecutter .\n",
    "```"
   ]
  },
  {
   "cell_type": "markdown",
   "metadata": {
    "slideshow": {
     "slide_type": "slide"
    }
   },
   "source": [
    "# Hello World\n",
    "\n",
    "```\n",
    "cd code/1_hello_world\n",
    "virtualenv venv; source venv/bin/activate\n",
    "```\n",
    "\n",
    "Run the project:\n",
    "\n",
    "```\n",
    "python hello.py runserver\n",
    "```\n",
    "\n",
    "```\n",
    "python hello.py test\n",
    "```\n"
   ]
  },
  {
   "cell_type": "markdown",
   "metadata": {},
   "source": [
    "# FOSSEvents Projects\n",
    "\n",
    "- Requirements and description: https://github.com/fossevents/fossevents.in/issues/1#issuecomment-100583483\n",
    "\n",
    "```\n",
    "cookecutter https://github.com/Fueled/cookiecutter-django.git\n",
    "```\n"
   ]
  },
  {
   "cell_type": "markdown",
   "metadata": {
    "slideshow": {
     "slide_type": "slide"
    }
   },
   "source": [
    "# Going Further\n",
    "\n",
    "- Follow communities and developments.\n",
    "    - https://www.facebook.com/groups/python.django/\n",
    "    - https://docs.djangoproject.com/en/1.8/internals/mailing-lists/\n"
   ]
  }
 ],
 "metadata": {
  "celltoolbar": "Slideshow",
  "kernelspec": {
   "display_name": "Python 2",
   "language": "python",
   "name": "python2"
  },
  "language_info": {
   "codemirror_mode": {
    "name": "ipython",
    "version": 2
   },
   "file_extension": ".py",
   "mimetype": "text/x-python",
   "name": "python",
   "nbconvert_exporter": "python",
   "pygments_lexer": "ipython2",
   "version": "2.7.10"
  }
 },
 "nbformat": 4,
 "nbformat_minor": 0
}
