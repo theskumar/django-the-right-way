{
 "cells": [
  {
   "cell_type": "markdown",
   "metadata": {
    "slideshow": {
     "slide_type": "slide"
    }
   },
   "source": [
    "# Django the Right Way!\n",
    "\n",
    "@_theskumar\n",
    "(https://saurabh-kumar.com)"
   ]
  },
  {
   "cell_type": "markdown",
   "metadata": {
    "slideshow": {
     "slide_type": "slide"
    }
   },
   "source": [
    "# Agenda\n",
    "\n",
    "- Tooling\n",
    "- App structure\n",
    "- Practises\n",
    "- Testing\n",
    "- CI and Deployment"
   ]
  },
  {
   "cell_type": "markdown",
   "metadata": {
    "slideshow": {
     "slide_type": "slide"
    }
   },
   "source": [
    "# Tooling\n",
    "\n",
    "- Editors (PyCharm, SublimeText, Atom, vim, notepad, etc)\n",
    "- Generators (cookiecutter)\n",
    "- Build Tools (Makefile, Fabric)\n",
    "- Linting "
   ]
  },
  {
   "cell_type": "markdown",
   "metadata": {
    "slideshow": {
     "slide_type": "subslide"
    }
   },
   "source": [
    "## Editors\n",
    "- Choose them carefully and learn it well.\n",
    "- Make use of plugins: [SublimeText](https://gist.github.com/theskumar/9ae8bfc510edbcf6c7dc)"
   ]
  },
  {
   "cell_type": "markdown",
   "metadata": {
    "slideshow": {
     "slide_type": "subslide"
    }
   },
   "source": [
    "## Generators\n",
    "- Helps you get started quickly.\n",
    "- Don't worry about boilerplate and repetitive code.\n"
   ]
  },
  {
   "cell_type": "markdown",
   "metadata": {
    "slideshow": {
     "slide_type": "subslide"
    }
   },
   "source": [
    "## Linting\n",
    "\n",
    "- Use flake8 as soon as you can.\n",
    "- Ideally before you make a commit.\n",
    "- Run it as part of CI build process.\n",
    "- [git-flake8] script, ensures you never make a mistake.\n",
    "\n",
    "```\n",
    "git flake8\n",
    "```\n",
    "\n",
    "[git-flake8]: https://github.com/theskumar/dotfiles/blob/master/bin/git-flake8"
   ]
  },
  {
   "cell_type": "markdown",
   "metadata": {
    "slideshow": {
     "slide_type": "slide"
    }
   },
   "source": [
    "# App Structure\n",
    "- Follow a guideline, with which more developers are familiar.\n",
    "- Namespacing a honking great idea, make use of it."
   ]
  },
  {
   "cell_type": "markdown",
   "metadata": {
    "slideshow": {
     "slide_type": "slide"
    }
   },
   "source": [
    "# Setup your computer\n",
    "\n",
    "```\n",
    "sudo pip install cookiecutter virtualenv fabric\n",
    "```\n"
   ]
  },
  {
   "cell_type": "markdown",
   "metadata": {},
   "source": [
    "# Hello World\n",
    "\n",
    "\n",
    "\n",
    "```\n",
    "cd code/1_hello_world\n",
    "virtualenv venv; source venv/bin/activate\n",
    "```\n",
    "\n",
    "Run the project:\n",
    "\n",
    "```\n",
    "python hello.py runserver\n",
    "```\n",
    "\n",
    "```\n",
    "python hello.py test\n",
    "```\n"
   ]
  },
  {
   "cell_type": "markdown",
   "metadata": {
    "slideshow": {
     "slide_type": "slide"
    }
   },
   "source": [
    "## Communities\n",
    "\n",
    "You grow with community and help it grow.\n",
    "\n",
    "- https://www.facebook.com/groups/python.django/\n",
    "- https://docs.djangoproject.com/en/1.8/internals/mailing-lists/\n"
   ]
  }
 ],
 "metadata": {
  "celltoolbar": "Slideshow",
  "kernelspec": {
   "display_name": "Python 2",
   "language": "python",
   "name": "python2"
  },
  "language_info": {
   "codemirror_mode": {
    "name": "ipython",
    "version": 2
   },
   "file_extension": ".py",
   "mimetype": "text/x-python",
   "name": "python",
   "nbconvert_exporter": "python",
   "pygments_lexer": "ipython2",
   "version": "2.7.10"
  }
 },
 "nbformat": 4,
 "nbformat_minor": 0
}
